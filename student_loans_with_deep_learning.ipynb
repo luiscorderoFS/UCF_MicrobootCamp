{
 "cells": [
  {
   "cell_type": "markdown",
   "metadata": {},
   "source": [
    "# Student Loan Risk with Deep Learning"
   ]
  },
  {
   "cell_type": "code",
   "execution_count": 113,
   "metadata": {},
   "outputs": [],
   "source": [
    "# Imports\n",
    "import pandas as pd\n",
    "from pathlib import Path\n",
    "import tensorflow as tf\n",
    "from tensorflow.keras.layers import Dense\n",
    "from tensorflow.keras.models import Sequential\n",
    "from sklearn.model_selection import train_test_split\n",
    "from sklearn.preprocessing import StandardScaler"
   ]
  },
  {
   "cell_type": "markdown",
   "metadata": {},
   "source": [
    "---\n",
    "\n",
    "## Prepare the data to be used on a neural network model"
   ]
  },
  {
   "cell_type": "markdown",
   "metadata": {},
   "source": [
    "### Step 1: Read the `student_loans.csv` file into a Pandas DataFrame. Review the DataFrame, looking for columns that could eventually define your features and target variables.   "
   ]
  },
  {
   "cell_type": "code",
   "execution_count": 114,
   "metadata": {},
   "outputs": [
    {
     "data": {
      "text/html": [
       "<div>\n",
       "<style scoped>\n",
       "    .dataframe tbody tr th:only-of-type {\n",
       "        vertical-align: middle;\n",
       "    }\n",
       "\n",
       "    .dataframe tbody tr th {\n",
       "        vertical-align: top;\n",
       "    }\n",
       "\n",
       "    .dataframe thead th {\n",
       "        text-align: right;\n",
       "    }\n",
       "</style>\n",
       "<table border=\"1\" class=\"dataframe\">\n",
       "  <thead>\n",
       "    <tr style=\"text-align: right;\">\n",
       "      <th></th>\n",
       "      <th>payment_history</th>\n",
       "      <th>location_parameter</th>\n",
       "      <th>stem_degree_score</th>\n",
       "      <th>gpa_ranking</th>\n",
       "      <th>alumni_success</th>\n",
       "      <th>study_major_code</th>\n",
       "      <th>time_to_completion</th>\n",
       "      <th>finance_workshop_score</th>\n",
       "      <th>cohort_ranking</th>\n",
       "      <th>total_loan_score</th>\n",
       "      <th>financial_aid_score</th>\n",
       "      <th>credit_ranking</th>\n",
       "    </tr>\n",
       "  </thead>\n",
       "  <tbody>\n",
       "    <tr>\n",
       "      <th>0</th>\n",
       "      <td>7.4</td>\n",
       "      <td>0.700</td>\n",
       "      <td>0.00</td>\n",
       "      <td>1.9</td>\n",
       "      <td>0.076</td>\n",
       "      <td>11.0</td>\n",
       "      <td>34.0</td>\n",
       "      <td>0.99780</td>\n",
       "      <td>3.51</td>\n",
       "      <td>0.56</td>\n",
       "      <td>9.4</td>\n",
       "      <td>5</td>\n",
       "    </tr>\n",
       "    <tr>\n",
       "      <th>1</th>\n",
       "      <td>7.8</td>\n",
       "      <td>0.880</td>\n",
       "      <td>0.00</td>\n",
       "      <td>2.6</td>\n",
       "      <td>0.098</td>\n",
       "      <td>25.0</td>\n",
       "      <td>67.0</td>\n",
       "      <td>0.99680</td>\n",
       "      <td>3.20</td>\n",
       "      <td>0.68</td>\n",
       "      <td>9.8</td>\n",
       "      <td>5</td>\n",
       "    </tr>\n",
       "    <tr>\n",
       "      <th>2</th>\n",
       "      <td>7.8</td>\n",
       "      <td>0.760</td>\n",
       "      <td>0.04</td>\n",
       "      <td>2.3</td>\n",
       "      <td>0.092</td>\n",
       "      <td>15.0</td>\n",
       "      <td>54.0</td>\n",
       "      <td>0.99700</td>\n",
       "      <td>3.26</td>\n",
       "      <td>0.65</td>\n",
       "      <td>9.8</td>\n",
       "      <td>5</td>\n",
       "    </tr>\n",
       "    <tr>\n",
       "      <th>3</th>\n",
       "      <td>11.2</td>\n",
       "      <td>0.280</td>\n",
       "      <td>0.56</td>\n",
       "      <td>1.9</td>\n",
       "      <td>0.075</td>\n",
       "      <td>17.0</td>\n",
       "      <td>60.0</td>\n",
       "      <td>0.99800</td>\n",
       "      <td>3.16</td>\n",
       "      <td>0.58</td>\n",
       "      <td>9.8</td>\n",
       "      <td>6</td>\n",
       "    </tr>\n",
       "    <tr>\n",
       "      <th>4</th>\n",
       "      <td>7.4</td>\n",
       "      <td>0.700</td>\n",
       "      <td>0.00</td>\n",
       "      <td>1.9</td>\n",
       "      <td>0.076</td>\n",
       "      <td>11.0</td>\n",
       "      <td>34.0</td>\n",
       "      <td>0.99780</td>\n",
       "      <td>3.51</td>\n",
       "      <td>0.56</td>\n",
       "      <td>9.4</td>\n",
       "      <td>5</td>\n",
       "    </tr>\n",
       "    <tr>\n",
       "      <th>...</th>\n",
       "      <td>...</td>\n",
       "      <td>...</td>\n",
       "      <td>...</td>\n",
       "      <td>...</td>\n",
       "      <td>...</td>\n",
       "      <td>...</td>\n",
       "      <td>...</td>\n",
       "      <td>...</td>\n",
       "      <td>...</td>\n",
       "      <td>...</td>\n",
       "      <td>...</td>\n",
       "      <td>...</td>\n",
       "    </tr>\n",
       "    <tr>\n",
       "      <th>1594</th>\n",
       "      <td>6.2</td>\n",
       "      <td>0.600</td>\n",
       "      <td>0.08</td>\n",
       "      <td>2.0</td>\n",
       "      <td>0.090</td>\n",
       "      <td>32.0</td>\n",
       "      <td>44.0</td>\n",
       "      <td>0.99490</td>\n",
       "      <td>3.45</td>\n",
       "      <td>0.58</td>\n",
       "      <td>10.5</td>\n",
       "      <td>5</td>\n",
       "    </tr>\n",
       "    <tr>\n",
       "      <th>1595</th>\n",
       "      <td>5.9</td>\n",
       "      <td>0.550</td>\n",
       "      <td>0.10</td>\n",
       "      <td>2.2</td>\n",
       "      <td>0.062</td>\n",
       "      <td>39.0</td>\n",
       "      <td>51.0</td>\n",
       "      <td>0.99512</td>\n",
       "      <td>3.52</td>\n",
       "      <td>0.76</td>\n",
       "      <td>11.2</td>\n",
       "      <td>6</td>\n",
       "    </tr>\n",
       "    <tr>\n",
       "      <th>1596</th>\n",
       "      <td>6.3</td>\n",
       "      <td>0.510</td>\n",
       "      <td>0.13</td>\n",
       "      <td>2.3</td>\n",
       "      <td>0.076</td>\n",
       "      <td>29.0</td>\n",
       "      <td>40.0</td>\n",
       "      <td>0.99574</td>\n",
       "      <td>3.42</td>\n",
       "      <td>0.75</td>\n",
       "      <td>11.0</td>\n",
       "      <td>6</td>\n",
       "    </tr>\n",
       "    <tr>\n",
       "      <th>1597</th>\n",
       "      <td>5.9</td>\n",
       "      <td>0.645</td>\n",
       "      <td>0.12</td>\n",
       "      <td>2.0</td>\n",
       "      <td>0.075</td>\n",
       "      <td>32.0</td>\n",
       "      <td>44.0</td>\n",
       "      <td>0.99547</td>\n",
       "      <td>3.57</td>\n",
       "      <td>0.71</td>\n",
       "      <td>10.2</td>\n",
       "      <td>5</td>\n",
       "    </tr>\n",
       "    <tr>\n",
       "      <th>1598</th>\n",
       "      <td>6.0</td>\n",
       "      <td>0.310</td>\n",
       "      <td>0.47</td>\n",
       "      <td>3.6</td>\n",
       "      <td>0.067</td>\n",
       "      <td>18.0</td>\n",
       "      <td>42.0</td>\n",
       "      <td>0.99549</td>\n",
       "      <td>3.39</td>\n",
       "      <td>0.66</td>\n",
       "      <td>11.0</td>\n",
       "      <td>6</td>\n",
       "    </tr>\n",
       "  </tbody>\n",
       "</table>\n",
       "<p>1599 rows × 12 columns</p>\n",
       "</div>"
      ],
      "text/plain": [
       "      payment_history  location_parameter  stem_degree_score  gpa_ranking  \\\n",
       "0                 7.4               0.700               0.00          1.9   \n",
       "1                 7.8               0.880               0.00          2.6   \n",
       "2                 7.8               0.760               0.04          2.3   \n",
       "3                11.2               0.280               0.56          1.9   \n",
       "4                 7.4               0.700               0.00          1.9   \n",
       "...               ...                 ...                ...          ...   \n",
       "1594              6.2               0.600               0.08          2.0   \n",
       "1595              5.9               0.550               0.10          2.2   \n",
       "1596              6.3               0.510               0.13          2.3   \n",
       "1597              5.9               0.645               0.12          2.0   \n",
       "1598              6.0               0.310               0.47          3.6   \n",
       "\n",
       "      alumni_success  study_major_code  time_to_completion  \\\n",
       "0              0.076              11.0                34.0   \n",
       "1              0.098              25.0                67.0   \n",
       "2              0.092              15.0                54.0   \n",
       "3              0.075              17.0                60.0   \n",
       "4              0.076              11.0                34.0   \n",
       "...              ...               ...                 ...   \n",
       "1594           0.090              32.0                44.0   \n",
       "1595           0.062              39.0                51.0   \n",
       "1596           0.076              29.0                40.0   \n",
       "1597           0.075              32.0                44.0   \n",
       "1598           0.067              18.0                42.0   \n",
       "\n",
       "      finance_workshop_score  cohort_ranking  total_loan_score  \\\n",
       "0                    0.99780            3.51              0.56   \n",
       "1                    0.99680            3.20              0.68   \n",
       "2                    0.99700            3.26              0.65   \n",
       "3                    0.99800            3.16              0.58   \n",
       "4                    0.99780            3.51              0.56   \n",
       "...                      ...             ...               ...   \n",
       "1594                 0.99490            3.45              0.58   \n",
       "1595                 0.99512            3.52              0.76   \n",
       "1596                 0.99574            3.42              0.75   \n",
       "1597                 0.99547            3.57              0.71   \n",
       "1598                 0.99549            3.39              0.66   \n",
       "\n",
       "      financial_aid_score  credit_ranking  \n",
       "0                     9.4               5  \n",
       "1                     9.8               5  \n",
       "2                     9.8               5  \n",
       "3                     9.8               6  \n",
       "4                     9.4               5  \n",
       "...                   ...             ...  \n",
       "1594                 10.5               5  \n",
       "1595                 11.2               6  \n",
       "1596                 11.0               6  \n",
       "1597                 10.2               5  \n",
       "1598                 11.0               6  \n",
       "\n",
       "[1599 rows x 12 columns]"
      ]
     },
     "execution_count": 114,
     "metadata": {},
     "output_type": "execute_result"
    }
   ],
   "source": [
    "# Read the csv into a Pandas DataFrame\n",
    "file_path = \"https://static.bc-edx.com/mbc/ai/m6/datasets/student_loans.csv\"\n",
    "\n",
    "\n",
    "# Review the DataFrame\n",
    "df = pd.read_csv(file_path)\n",
    "df"
   ]
  },
  {
   "cell_type": "code",
   "execution_count": 115,
   "metadata": {},
   "outputs": [
    {
     "data": {
      "text/plain": [
       "payment_history           float64\n",
       "location_parameter        float64\n",
       "stem_degree_score         float64\n",
       "gpa_ranking               float64\n",
       "alumni_success            float64\n",
       "study_major_code          float64\n",
       "time_to_completion        float64\n",
       "finance_workshop_score    float64\n",
       "cohort_ranking            float64\n",
       "total_loan_score          float64\n",
       "financial_aid_score       float64\n",
       "credit_ranking              int64\n",
       "dtype: object"
      ]
     },
     "execution_count": 115,
     "metadata": {},
     "output_type": "execute_result"
    }
   ],
   "source": [
    "# Review the data types associated with the columns\n",
    "df.dtypes"
   ]
  },
  {
   "cell_type": "markdown",
   "metadata": {},
   "source": [
    "### Step 2: Using the preprocessed data, create the features (`X`) and target (`y`) datasets. The target dataset should be defined by the preprocessed DataFrame column “credit_ranking”. The remaining columns should define the features dataset."
   ]
  },
  {
   "cell_type": "code",
   "execution_count": 116,
   "metadata": {},
   "outputs": [
    {
     "data": {
      "text/plain": [
       "array([5, 5, 5, 6, 5], dtype=int64)"
      ]
     },
     "execution_count": 116,
     "metadata": {},
     "output_type": "execute_result"
    }
   ],
   "source": [
    "# Define the target set y using the credit_ranking column\n",
    "y = df[\"credit_ranking\"].values\n",
    "\n",
    "# Display a sample of y\n",
    "y[:5]"
   ]
  },
  {
   "cell_type": "code",
   "execution_count": 117,
   "metadata": {},
   "outputs": [
    {
     "data": {
      "text/html": [
       "<div>\n",
       "<style scoped>\n",
       "    .dataframe tbody tr th:only-of-type {\n",
       "        vertical-align: middle;\n",
       "    }\n",
       "\n",
       "    .dataframe tbody tr th {\n",
       "        vertical-align: top;\n",
       "    }\n",
       "\n",
       "    .dataframe thead th {\n",
       "        text-align: right;\n",
       "    }\n",
       "</style>\n",
       "<table border=\"1\" class=\"dataframe\">\n",
       "  <thead>\n",
       "    <tr style=\"text-align: right;\">\n",
       "      <th></th>\n",
       "      <th>payment_history</th>\n",
       "      <th>location_parameter</th>\n",
       "      <th>stem_degree_score</th>\n",
       "      <th>gpa_ranking</th>\n",
       "      <th>alumni_success</th>\n",
       "      <th>study_major_code</th>\n",
       "      <th>time_to_completion</th>\n",
       "      <th>finance_workshop_score</th>\n",
       "      <th>cohort_ranking</th>\n",
       "      <th>total_loan_score</th>\n",
       "      <th>financial_aid_score</th>\n",
       "    </tr>\n",
       "  </thead>\n",
       "  <tbody>\n",
       "    <tr>\n",
       "      <th>0</th>\n",
       "      <td>7.4</td>\n",
       "      <td>0.70</td>\n",
       "      <td>0.00</td>\n",
       "      <td>1.9</td>\n",
       "      <td>0.076</td>\n",
       "      <td>11.0</td>\n",
       "      <td>34.0</td>\n",
       "      <td>0.9978</td>\n",
       "      <td>3.51</td>\n",
       "      <td>0.56</td>\n",
       "      <td>9.4</td>\n",
       "    </tr>\n",
       "    <tr>\n",
       "      <th>1</th>\n",
       "      <td>7.8</td>\n",
       "      <td>0.88</td>\n",
       "      <td>0.00</td>\n",
       "      <td>2.6</td>\n",
       "      <td>0.098</td>\n",
       "      <td>25.0</td>\n",
       "      <td>67.0</td>\n",
       "      <td>0.9968</td>\n",
       "      <td>3.20</td>\n",
       "      <td>0.68</td>\n",
       "      <td>9.8</td>\n",
       "    </tr>\n",
       "    <tr>\n",
       "      <th>2</th>\n",
       "      <td>7.8</td>\n",
       "      <td>0.76</td>\n",
       "      <td>0.04</td>\n",
       "      <td>2.3</td>\n",
       "      <td>0.092</td>\n",
       "      <td>15.0</td>\n",
       "      <td>54.0</td>\n",
       "      <td>0.9970</td>\n",
       "      <td>3.26</td>\n",
       "      <td>0.65</td>\n",
       "      <td>9.8</td>\n",
       "    </tr>\n",
       "    <tr>\n",
       "      <th>3</th>\n",
       "      <td>11.2</td>\n",
       "      <td>0.28</td>\n",
       "      <td>0.56</td>\n",
       "      <td>1.9</td>\n",
       "      <td>0.075</td>\n",
       "      <td>17.0</td>\n",
       "      <td>60.0</td>\n",
       "      <td>0.9980</td>\n",
       "      <td>3.16</td>\n",
       "      <td>0.58</td>\n",
       "      <td>9.8</td>\n",
       "    </tr>\n",
       "    <tr>\n",
       "      <th>4</th>\n",
       "      <td>7.4</td>\n",
       "      <td>0.70</td>\n",
       "      <td>0.00</td>\n",
       "      <td>1.9</td>\n",
       "      <td>0.076</td>\n",
       "      <td>11.0</td>\n",
       "      <td>34.0</td>\n",
       "      <td>0.9978</td>\n",
       "      <td>3.51</td>\n",
       "      <td>0.56</td>\n",
       "      <td>9.4</td>\n",
       "    </tr>\n",
       "  </tbody>\n",
       "</table>\n",
       "</div>"
      ],
      "text/plain": [
       "   payment_history  location_parameter  stem_degree_score  gpa_ranking  \\\n",
       "0              7.4                0.70               0.00          1.9   \n",
       "1              7.8                0.88               0.00          2.6   \n",
       "2              7.8                0.76               0.04          2.3   \n",
       "3             11.2                0.28               0.56          1.9   \n",
       "4              7.4                0.70               0.00          1.9   \n",
       "\n",
       "   alumni_success  study_major_code  time_to_completion  \\\n",
       "0           0.076              11.0                34.0   \n",
       "1           0.098              25.0                67.0   \n",
       "2           0.092              15.0                54.0   \n",
       "3           0.075              17.0                60.0   \n",
       "4           0.076              11.0                34.0   \n",
       "\n",
       "   finance_workshop_score  cohort_ranking  total_loan_score  \\\n",
       "0                  0.9978            3.51              0.56   \n",
       "1                  0.9968            3.20              0.68   \n",
       "2                  0.9970            3.26              0.65   \n",
       "3                  0.9980            3.16              0.58   \n",
       "4                  0.9978            3.51              0.56   \n",
       "\n",
       "   financial_aid_score  \n",
       "0                  9.4  \n",
       "1                  9.8  \n",
       "2                  9.8  \n",
       "3                  9.8  \n",
       "4                  9.4  "
      ]
     },
     "execution_count": 117,
     "metadata": {},
     "output_type": "execute_result"
    }
   ],
   "source": [
    "# Define features set X by selecting all columns but credit_ranking\n",
    "x = df.drop(columns=\"credit_ranking\").copy()\n",
    "\n",
    "# Review the features DataFrame\n",
    "x.head()"
   ]
  },
  {
   "cell_type": "markdown",
   "metadata": {},
   "source": [
    "### Step 3: Split the features and target sets into training and testing datasets.\n"
   ]
  },
  {
   "cell_type": "code",
   "execution_count": 118,
   "metadata": {},
   "outputs": [],
   "source": [
    "# Split the preprocessed data into a training and testing dataset\n",
    "# Assign the function a random_state equal to 1\n",
    "xTrain, xTest, yTrain, yTest = train_test_split(x,y, random_state=1)"
   ]
  },
  {
   "cell_type": "markdown",
   "metadata": {},
   "source": [
    "### Step 4: Use scikit-learn's `StandardScaler` to scale the features data."
   ]
  },
  {
   "cell_type": "code",
   "execution_count": 119,
   "metadata": {},
   "outputs": [],
   "source": [
    "# Create a StandardScaler instance\n",
    "xScaler = StandardScaler()\n",
    "xScaler.fit(xTrain)\n",
    "# Fit the scaler to the features training dataset\n",
    "xTrainScaled = xScaler.transform(xTrain)\n",
    "\n",
    "# Fit the scaler to the features training dataset\n",
    "xTestScaled = xScaler.transform(xTest)"
   ]
  },
  {
   "cell_type": "markdown",
   "metadata": {},
   "source": [
    "---\n",
    "\n",
    "## Compile and Evaluate a Model Using a Neural Network"
   ]
  },
  {
   "cell_type": "markdown",
   "metadata": {},
   "source": [
    "### Step 1: Create a deep neural network by assigning the number of input features, the number of layers, and the number of neurons on each layer using Tensorflow’s Keras.\n",
    "\n",
    "> **Hint** You can start with a two-layer deep neural network model that uses the `relu` activation function for both layers.\n"
   ]
  },
  {
   "cell_type": "code",
   "execution_count": 120,
   "metadata": {},
   "outputs": [
    {
     "data": {
      "text/plain": [
       "11"
      ]
     },
     "execution_count": 120,
     "metadata": {},
     "output_type": "execute_result"
    }
   ],
   "source": [
    "# Define the the number of inputs (features) to the model\n",
    "number_inputs = 11\n",
    "# Review the number of features\n",
    "sum(x.columns.value_counts())"
   ]
  },
  {
   "cell_type": "code",
   "execution_count": 121,
   "metadata": {},
   "outputs": [],
   "source": [
    "# Define the number of neurons in the output layer\n",
    "number_classes = 1"
   ]
  },
  {
   "cell_type": "code",
   "execution_count": 122,
   "metadata": {},
   "outputs": [
    {
     "data": {
      "text/plain": [
       "10"
      ]
     },
     "execution_count": 122,
     "metadata": {},
     "output_type": "execute_result"
    }
   ],
   "source": [
    "# Define the number of hidden nodes for the first hidden layer\n",
    "hidden_nodes_layer1 = 10\n",
    "\n",
    "# Review the number hidden nodes in the first layer\n",
    "hidden_nodes_layer1"
   ]
  },
  {
   "cell_type": "code",
   "execution_count": 123,
   "metadata": {},
   "outputs": [
    {
     "data": {
      "text/plain": [
       "9"
      ]
     },
     "execution_count": 123,
     "metadata": {},
     "output_type": "execute_result"
    }
   ],
   "source": [
    "# Define the number of hidden nodes for the second hidden layer\n",
    "hidden_nodes_layer2 = 9\n",
    "\n",
    "# Review the number hidden nodes in the second layer\n",
    "hidden_nodes_layer2"
   ]
  },
  {
   "cell_type": "code",
   "execution_count": 124,
   "metadata": {},
   "outputs": [],
   "source": [
    "# Create the Sequential model instance\n",
    "neuron = Sequential()"
   ]
  },
  {
   "cell_type": "code",
   "execution_count": 125,
   "metadata": {},
   "outputs": [],
   "source": [
    "# Add the first hidden layer\n",
    "neuron.add(Dense(units = hidden_nodes_layer1, input_dim = number_inputs, activation = \"relu\"))\n"
   ]
  },
  {
   "cell_type": "code",
   "execution_count": 126,
   "metadata": {},
   "outputs": [],
   "source": [
    "# Add the second hidden layer\n",
    "neuron.add(Dense(units = hidden_nodes_layer2,  activation = \"relu\"))\n"
   ]
  },
  {
   "cell_type": "code",
   "execution_count": 127,
   "metadata": {},
   "outputs": [],
   "source": [
    "# Add the output layer to the model specifying the number of output neurons and activation function\n",
    "neuron.add(Dense(units = number_classes, activation = \"linear\"))"
   ]
  },
  {
   "cell_type": "code",
   "execution_count": 128,
   "metadata": {},
   "outputs": [
    {
     "name": "stdout",
     "output_type": "stream",
     "text": [
      "Model: \"sequential_3\"\n",
      "_________________________________________________________________\n",
      " Layer (type)                Output Shape              Param #   \n",
      "=================================================================\n",
      " dense_10 (Dense)            (None, 10)                120       \n",
      "                                                                 \n",
      " dense_11 (Dense)            (None, 9)                 99        \n",
      "                                                                 \n",
      " dense_12 (Dense)            (None, 1)                 10        \n",
      "                                                                 \n",
      "=================================================================\n",
      "Total params: 229 (916.00 Byte)\n",
      "Trainable params: 229 (916.00 Byte)\n",
      "Non-trainable params: 0 (0.00 Byte)\n",
      "_________________________________________________________________\n"
     ]
    }
   ],
   "source": [
    "# Display the Sequential model summary\n",
    "neuron.summary()"
   ]
  },
  {
   "cell_type": "markdown",
   "metadata": {},
   "source": [
    "### Step 2: Compile and fit the model using the `mse` loss function, the `adam` optimizer, and the `mse` evaluation metric.\n"
   ]
  },
  {
   "cell_type": "code",
   "execution_count": 129,
   "metadata": {},
   "outputs": [],
   "source": [
    "# Compile the Sequential model\n",
    "neuron.compile(loss = \"mean_squared_error\", optimizer= \"adam\", metrics = [\"mse\"])"
   ]
  },
  {
   "cell_type": "code",
   "execution_count": 130,
   "metadata": {},
   "outputs": [
    {
     "name": "stdout",
     "output_type": "stream",
     "text": [
      "Epoch 1/100\n",
      "38/38 [==============================] - 1s 1ms/step - loss: 38.6930 - mse: 38.6930\n",
      "Epoch 2/100\n",
      "38/38 [==============================] - 0s 1ms/step - loss: 32.5514 - mse: 32.5514\n",
      "Epoch 3/100\n",
      "38/38 [==============================] - 0s 1ms/step - loss: 28.1958 - mse: 28.1958\n",
      "Epoch 4/100\n",
      "38/38 [==============================] - 0s 2ms/step - loss: 24.0966 - mse: 24.0966\n",
      "Epoch 5/100\n",
      "38/38 [==============================] - 0s 2ms/step - loss: 19.6373 - mse: 19.6373\n",
      "Epoch 6/100\n",
      "38/38 [==============================] - 0s 1ms/step - loss: 15.0190 - mse: 15.0190\n",
      "Epoch 7/100\n"
     ]
    },
    {
     "name": "stdout",
     "output_type": "stream",
     "text": [
      "38/38 [==============================] - 0s 2ms/step - loss: 10.8573 - mse: 10.8573\n",
      "Epoch 8/100\n",
      "38/38 [==============================] - 0s 1ms/step - loss: 7.7780 - mse: 7.7780\n",
      "Epoch 9/100\n",
      "38/38 [==============================] - 0s 2ms/step - loss: 5.8991 - mse: 5.8991\n",
      "Epoch 10/100\n",
      "38/38 [==============================] - 0s 2ms/step - loss: 4.7953 - mse: 4.7953\n",
      "Epoch 11/100\n",
      "38/38 [==============================] - 0s 1ms/step - loss: 4.0990 - mse: 4.0990\n",
      "Epoch 12/100\n",
      "38/38 [==============================] - 0s 2ms/step - loss: 3.5772 - mse: 3.5772\n",
      "Epoch 13/100\n",
      "38/38 [==============================] - 0s 2ms/step - loss: 3.1676 - mse: 3.1676\n",
      "Epoch 14/100\n",
      "38/38 [==============================] - 0s 1ms/step - loss: 2.8217 - mse: 2.8217\n",
      "Epoch 15/100\n",
      "38/38 [==============================] - 0s 1ms/step - loss: 2.5411 - mse: 2.5411\n",
      "Epoch 16/100\n",
      "38/38 [==============================] - 0s 1ms/step - loss: 2.3161 - mse: 2.3161\n",
      "Epoch 17/100\n",
      "38/38 [==============================] - 0s 1ms/step - loss: 2.1251 - mse: 2.1251\n",
      "Epoch 18/100\n",
      "38/38 [==============================] - 0s 1ms/step - loss: 1.9691 - mse: 1.9691\n",
      "Epoch 19/100\n",
      "38/38 [==============================] - 0s 1ms/step - loss: 1.8307 - mse: 1.8307\n",
      "Epoch 20/100\n",
      "38/38 [==============================] - 0s 1ms/step - loss: 1.7140 - mse: 1.7140\n",
      "Epoch 21/100\n",
      "38/38 [==============================] - 0s 1ms/step - loss: 1.6122 - mse: 1.6122\n",
      "Epoch 22/100\n",
      "38/38 [==============================] - 0s 1ms/step - loss: 1.5163 - mse: 1.5163\n",
      "Epoch 23/100\n",
      "38/38 [==============================] - 0s 1ms/step - loss: 1.4370 - mse: 1.4370\n",
      "Epoch 24/100\n",
      "38/38 [==============================] - 0s 1ms/step - loss: 1.3618 - mse: 1.3618\n",
      "Epoch 25/100\n",
      "38/38 [==============================] - 0s 1ms/step - loss: 1.2938 - mse: 1.2938\n",
      "Epoch 26/100\n",
      "38/38 [==============================] - 0s 993us/step - loss: 1.2320 - mse: 1.2320\n",
      "Epoch 27/100\n",
      "38/38 [==============================] - 0s 995us/step - loss: 1.1777 - mse: 1.1777\n",
      "Epoch 28/100\n",
      "38/38 [==============================] - 0s 1ms/step - loss: 1.1214 - mse: 1.1214\n",
      "Epoch 29/100\n",
      "38/38 [==============================] - 0s 1ms/step - loss: 1.0702 - mse: 1.0702\n",
      "Epoch 30/100\n",
      "38/38 [==============================] - 0s 1ms/step - loss: 1.0218 - mse: 1.0218\n",
      "Epoch 31/100\n",
      "38/38 [==============================] - 0s 1ms/step - loss: 0.9781 - mse: 0.9781\n",
      "Epoch 32/100\n",
      "38/38 [==============================] - 0s 1ms/step - loss: 0.9389 - mse: 0.9389\n",
      "Epoch 33/100\n",
      "38/38 [==============================] - 0s 1ms/step - loss: 0.8948 - mse: 0.8948\n",
      "Epoch 34/100\n",
      "38/38 [==============================] - 0s 1ms/step - loss: 0.8607 - mse: 0.8607\n",
      "Epoch 35/100\n",
      "38/38 [==============================] - 0s 1ms/step - loss: 0.8298 - mse: 0.8298\n",
      "Epoch 36/100\n",
      "38/38 [==============================] - 0s 1ms/step - loss: 0.7970 - mse: 0.7970\n",
      "Epoch 37/100\n",
      "38/38 [==============================] - 0s 1ms/step - loss: 0.7687 - mse: 0.7687\n",
      "Epoch 38/100\n",
      "38/38 [==============================] - 0s 1ms/step - loss: 0.7448 - mse: 0.7448\n",
      "Epoch 39/100\n",
      "38/38 [==============================] - 0s 1ms/step - loss: 0.7195 - mse: 0.7195\n",
      "Epoch 40/100\n",
      "38/38 [==============================] - 0s 1ms/step - loss: 0.6972 - mse: 0.6972\n",
      "Epoch 41/100\n",
      "38/38 [==============================] - 0s 1ms/step - loss: 0.6759 - mse: 0.6759\n",
      "Epoch 42/100\n",
      "38/38 [==============================] - 0s 1ms/step - loss: 0.6553 - mse: 0.6553\n",
      "Epoch 43/100\n",
      "38/38 [==============================] - 0s 1ms/step - loss: 0.6364 - mse: 0.6364\n",
      "Epoch 44/100\n",
      "38/38 [==============================] - 0s 1ms/step - loss: 0.6180 - mse: 0.6180\n",
      "Epoch 45/100\n",
      "38/38 [==============================] - 0s 1ms/step - loss: 0.6031 - mse: 0.6031\n",
      "Epoch 46/100\n",
      "38/38 [==============================] - 0s 1ms/step - loss: 0.5897 - mse: 0.5897\n",
      "Epoch 47/100\n",
      "38/38 [==============================] - 0s 1ms/step - loss: 0.5772 - mse: 0.5772\n",
      "Epoch 48/100\n",
      "38/38 [==============================] - 0s 1ms/step - loss: 0.5644 - mse: 0.5644\n",
      "Epoch 49/100\n",
      "38/38 [==============================] - 0s 1ms/step - loss: 0.5550 - mse: 0.5550\n",
      "Epoch 50/100\n",
      "38/38 [==============================] - 0s 1ms/step - loss: 0.5476 - mse: 0.5476\n",
      "Epoch 51/100\n",
      "38/38 [==============================] - 0s 979us/step - loss: 0.5364 - mse: 0.5364\n",
      "Epoch 52/100\n",
      "38/38 [==============================] - 0s 1ms/step - loss: 0.5261 - mse: 0.5261\n",
      "Epoch 53/100\n",
      "38/38 [==============================] - 0s 1ms/step - loss: 0.5199 - mse: 0.5199\n",
      "Epoch 54/100\n",
      "38/38 [==============================] - 0s 1ms/step - loss: 0.5108 - mse: 0.5108\n",
      "Epoch 55/100\n",
      "38/38 [==============================] - 0s 1ms/step - loss: 0.5078 - mse: 0.5078\n",
      "Epoch 56/100\n",
      "38/38 [==============================] - 0s 2ms/step - loss: 0.4997 - mse: 0.4997\n",
      "Epoch 57/100\n",
      "38/38 [==============================] - 0s 2ms/step - loss: 0.4921 - mse: 0.4921\n",
      "Epoch 58/100\n",
      "38/38 [==============================] - 0s 2ms/step - loss: 0.4856 - mse: 0.4856\n",
      "Epoch 59/100\n",
      "38/38 [==============================] - 0s 3ms/step - loss: 0.4782 - mse: 0.4782\n",
      "Epoch 60/100\n",
      "38/38 [==============================] - 0s 1ms/step - loss: 0.4745 - mse: 0.4745\n",
      "Epoch 61/100\n",
      "38/38 [==============================] - 0s 1ms/step - loss: 0.4666 - mse: 0.4666\n",
      "Epoch 62/100\n",
      "38/38 [==============================] - 0s 1ms/step - loss: 0.4643 - mse: 0.4643\n",
      "Epoch 63/100\n",
      "38/38 [==============================] - 0s 1ms/step - loss: 0.4599 - mse: 0.4599\n",
      "Epoch 64/100\n",
      "38/38 [==============================] - 0s 1ms/step - loss: 0.4537 - mse: 0.4537\n",
      "Epoch 65/100\n",
      "38/38 [==============================] - 0s 1ms/step - loss: 0.4524 - mse: 0.4524\n",
      "Epoch 66/100\n",
      "38/38 [==============================] - 0s 1ms/step - loss: 0.4476 - mse: 0.4476\n",
      "Epoch 67/100\n",
      "38/38 [==============================] - 0s 1ms/step - loss: 0.4417 - mse: 0.4417\n",
      "Epoch 68/100\n",
      "38/38 [==============================] - 0s 1ms/step - loss: 0.4390 - mse: 0.4390\n",
      "Epoch 69/100\n",
      "38/38 [==============================] - 0s 1ms/step - loss: 0.4371 - mse: 0.4371\n",
      "Epoch 70/100\n",
      "38/38 [==============================] - 0s 1ms/step - loss: 0.4343 - mse: 0.4343\n",
      "Epoch 71/100\n",
      "38/38 [==============================] - 0s 1ms/step - loss: 0.4310 - mse: 0.4310\n",
      "Epoch 72/100\n",
      "38/38 [==============================] - 0s 1ms/step - loss: 0.4277 - mse: 0.4277\n",
      "Epoch 73/100\n",
      "38/38 [==============================] - 0s 1ms/step - loss: 0.4264 - mse: 0.4264\n",
      "Epoch 74/100\n",
      "38/38 [==============================] - 0s 1ms/step - loss: 0.4258 - mse: 0.4258\n",
      "Epoch 75/100\n",
      "38/38 [==============================] - 0s 1ms/step - loss: 0.4216 - mse: 0.4216\n",
      "Epoch 76/100\n",
      "38/38 [==============================] - 0s 1ms/step - loss: 0.4204 - mse: 0.4204\n",
      "Epoch 77/100\n",
      "38/38 [==============================] - 0s 1ms/step - loss: 0.4188 - mse: 0.4188\n",
      "Epoch 78/100\n",
      "38/38 [==============================] - 0s 1ms/step - loss: 0.4155 - mse: 0.4155\n",
      "Epoch 79/100\n",
      "38/38 [==============================] - 0s 1ms/step - loss: 0.4170 - mse: 0.4170\n",
      "Epoch 80/100\n",
      "38/38 [==============================] - 0s 1ms/step - loss: 0.4135 - mse: 0.4135\n",
      "Epoch 81/100\n",
      "38/38 [==============================] - 0s 1ms/step - loss: 0.4109 - mse: 0.4109\n",
      "Epoch 82/100\n",
      "38/38 [==============================] - 0s 996us/step - loss: 0.4100 - mse: 0.4100\n",
      "Epoch 83/100\n",
      "38/38 [==============================] - 0s 999us/step - loss: 0.4125 - mse: 0.4125\n",
      "Epoch 84/100\n",
      "38/38 [==============================] - 0s 2ms/step - loss: 0.4082 - mse: 0.4082\n",
      "Epoch 85/100\n",
      "38/38 [==============================] - 0s 1ms/step - loss: 0.4063 - mse: 0.4063\n",
      "Epoch 86/100\n",
      "38/38 [==============================] - 0s 1ms/step - loss: 0.4054 - mse: 0.4054\n",
      "Epoch 87/100\n",
      "38/38 [==============================] - 0s 1ms/step - loss: 0.4039 - mse: 0.4039\n",
      "Epoch 88/100\n",
      "38/38 [==============================] - 0s 1ms/step - loss: 0.4020 - mse: 0.4020\n",
      "Epoch 89/100\n",
      "38/38 [==============================] - 0s 1ms/step - loss: 0.4068 - mse: 0.4068\n",
      "Epoch 90/100\n",
      "38/38 [==============================] - 0s 1ms/step - loss: 0.4036 - mse: 0.4036\n",
      "Epoch 91/100\n",
      "38/38 [==============================] - 0s 1ms/step - loss: 0.3987 - mse: 0.3987\n",
      "Epoch 92/100\n",
      "38/38 [==============================] - 0s 1ms/step - loss: 0.3975 - mse: 0.3975\n",
      "Epoch 93/100\n",
      "38/38 [==============================] - 0s 970us/step - loss: 0.3983 - mse: 0.3983\n",
      "Epoch 94/100\n",
      "38/38 [==============================] - 0s 1ms/step - loss: 0.3970 - mse: 0.3970\n",
      "Epoch 95/100\n",
      "38/38 [==============================] - 0s 1ms/step - loss: 0.3968 - mse: 0.3968\n",
      "Epoch 96/100\n",
      "38/38 [==============================] - 0s 1ms/step - loss: 0.3931 - mse: 0.3931\n",
      "Epoch 97/100\n",
      "38/38 [==============================] - 0s 1ms/step - loss: 0.3934 - mse: 0.3934\n",
      "Epoch 98/100\n",
      "38/38 [==============================] - 0s 1ms/step - loss: 0.3945 - mse: 0.3945\n",
      "Epoch 99/100\n",
      "38/38 [==============================] - 0s 1ms/step - loss: 0.3960 - mse: 0.3960\n",
      "Epoch 100/100\n",
      "38/38 [==============================] - 0s 1ms/step - loss: 0.3928 - mse: 0.3928\n"
     ]
    }
   ],
   "source": [
    "# Fit the model using 50 epochs and the training data\n",
    "model = neuron.fit(xTrainScaled, yTrain, epochs= 100)"
   ]
  },
  {
   "cell_type": "markdown",
   "metadata": {},
   "source": [
    "### Step 3: Evaluate the model using the test data to determine the model’s loss and accuracy.\n"
   ]
  },
  {
   "cell_type": "code",
   "execution_count": 131,
   "metadata": {},
   "outputs": [
    {
     "name": "stdout",
     "output_type": "stream",
     "text": [
      "13/13 - 0s - loss: 0.4111 - mse: 0.4111 - 106ms/epoch - 8ms/step\n",
      "Model Loss : 0.41105231642723083    Model MSE : 0.41105231642723083\n"
     ]
    }
   ],
   "source": [
    "# Evaluate the model loss and accuracy metrics using the evaluate method and the test data\n",
    "modelLoss, modelMSE= neuron.evaluate(xTestScaled, yTest, verbose= 2)\n",
    "\n",
    "# Display the model loss and accuracy results\n",
    "print(f\"Model Loss : {modelLoss}    Model MSE : {modelMSE}\")"
   ]
  },
  {
   "cell_type": "markdown",
   "metadata": {},
   "source": [
    "### Step 4: Save and export your model to an HDF5 file, and name the file `student_loans.h5`.\n"
   ]
  },
  {
   "cell_type": "code",
   "execution_count": 132,
   "metadata": {},
   "outputs": [
    {
     "name": "stderr",
     "output_type": "stream",
     "text": [
      "c:\\Users\\Luis Cordero\\anaconda3\\envs\\dev\\lib\\site-packages\\keras\\src\\engine\\training.py:3000: UserWarning: You are saving your model as an HDF5 file via `model.save()`. This file format is considered legacy. We recommend using instead the native Keras format, e.g. `model.save('my_model.keras')`.\n",
      "  saving_api.save_model(\n"
     ]
    }
   ],
   "source": [
    "# Set the model's file path\n",
    "file_path = Path(\"saved_models/student_loans.h5\")\n",
    "\n",
    "# Export your model to a HDF5 file\n",
    "neuron.save(file_path)"
   ]
  },
  {
   "cell_type": "markdown",
   "metadata": {},
   "source": [
    "---\n",
    "## Predict Loan Repayment Success by Using your Neural Network Model"
   ]
  },
  {
   "cell_type": "markdown",
   "metadata": {},
   "source": [
    "### Step 1: Reload your saved model."
   ]
  },
  {
   "cell_type": "code",
   "execution_count": 133,
   "metadata": {},
   "outputs": [],
   "source": [
    "# Set the model's file path\n",
    "file_path = Path(\"saved_models/student_loans.h5\")\n",
    "\n",
    "# Load the model to a new object\n",
    "neuron_imported = tf.keras.models.load_model(file_path)"
   ]
  },
  {
   "cell_type": "markdown",
   "metadata": {},
   "source": [
    "### Step 2: Make predictions on the testing data."
   ]
  },
  {
   "cell_type": "code",
   "execution_count": 134,
   "metadata": {},
   "outputs": [
    {
     "name": "stdout",
     "output_type": "stream",
     "text": [
      "13/13 [==============================] - 0s 979us/step\n"
     ]
    }
   ],
   "source": [
    "# Make predictions on the testing data\n",
    "predictions = neuron_imported.predict(xTestScaled).round().astype(\"int32\")"
   ]
  },
  {
   "cell_type": "markdown",
   "metadata": {},
   "source": [
    "### Step 3: Create a DataFrame to compare the predictions with the actual values."
   ]
  },
  {
   "cell_type": "code",
   "execution_count": 135,
   "metadata": {},
   "outputs": [],
   "source": [
    "# Create a DataFrame to compare the predictions with the actual values\n",
    "results = pd.DataFrame({\"predictions\" : predictions.ravel(), \"actual\": yTest})\n",
    "\n"
   ]
  },
  {
   "cell_type": "markdown",
   "metadata": {},
   "source": [
    "### Step 4: Display a sample of the DataFrame you created in step 3."
   ]
  },
  {
   "cell_type": "code",
   "execution_count": 136,
   "metadata": {},
   "outputs": [
    {
     "data": {
      "text/html": [
       "<div>\n",
       "<style scoped>\n",
       "    .dataframe tbody tr th:only-of-type {\n",
       "        vertical-align: middle;\n",
       "    }\n",
       "\n",
       "    .dataframe tbody tr th {\n",
       "        vertical-align: top;\n",
       "    }\n",
       "\n",
       "    .dataframe thead th {\n",
       "        text-align: right;\n",
       "    }\n",
       "</style>\n",
       "<table border=\"1\" class=\"dataframe\">\n",
       "  <thead>\n",
       "    <tr style=\"text-align: right;\">\n",
       "      <th></th>\n",
       "      <th>predictions</th>\n",
       "      <th>actual</th>\n",
       "    </tr>\n",
       "  </thead>\n",
       "  <tbody>\n",
       "    <tr>\n",
       "      <th>0</th>\n",
       "      <td>5</td>\n",
       "      <td>5</td>\n",
       "    </tr>\n",
       "    <tr>\n",
       "      <th>1</th>\n",
       "      <td>5</td>\n",
       "      <td>6</td>\n",
       "    </tr>\n",
       "    <tr>\n",
       "      <th>2</th>\n",
       "      <td>6</td>\n",
       "      <td>6</td>\n",
       "    </tr>\n",
       "    <tr>\n",
       "      <th>3</th>\n",
       "      <td>6</td>\n",
       "      <td>6</td>\n",
       "    </tr>\n",
       "    <tr>\n",
       "      <th>4</th>\n",
       "      <td>6</td>\n",
       "      <td>6</td>\n",
       "    </tr>\n",
       "    <tr>\n",
       "      <th>5</th>\n",
       "      <td>6</td>\n",
       "      <td>6</td>\n",
       "    </tr>\n",
       "    <tr>\n",
       "      <th>6</th>\n",
       "      <td>6</td>\n",
       "      <td>6</td>\n",
       "    </tr>\n",
       "    <tr>\n",
       "      <th>7</th>\n",
       "      <td>5</td>\n",
       "      <td>5</td>\n",
       "    </tr>\n",
       "    <tr>\n",
       "      <th>8</th>\n",
       "      <td>6</td>\n",
       "      <td>5</td>\n",
       "    </tr>\n",
       "    <tr>\n",
       "      <th>9</th>\n",
       "      <td>5</td>\n",
       "      <td>5</td>\n",
       "    </tr>\n",
       "    <tr>\n",
       "      <th>10</th>\n",
       "      <td>6</td>\n",
       "      <td>6</td>\n",
       "    </tr>\n",
       "    <tr>\n",
       "      <th>11</th>\n",
       "      <td>5</td>\n",
       "      <td>6</td>\n",
       "    </tr>\n",
       "    <tr>\n",
       "      <th>12</th>\n",
       "      <td>5</td>\n",
       "      <td>6</td>\n",
       "    </tr>\n",
       "    <tr>\n",
       "      <th>13</th>\n",
       "      <td>7</td>\n",
       "      <td>6</td>\n",
       "    </tr>\n",
       "    <tr>\n",
       "      <th>14</th>\n",
       "      <td>6</td>\n",
       "      <td>6</td>\n",
       "    </tr>\n",
       "    <tr>\n",
       "      <th>15</th>\n",
       "      <td>5</td>\n",
       "      <td>5</td>\n",
       "    </tr>\n",
       "    <tr>\n",
       "      <th>16</th>\n",
       "      <td>6</td>\n",
       "      <td>6</td>\n",
       "    </tr>\n",
       "    <tr>\n",
       "      <th>17</th>\n",
       "      <td>5</td>\n",
       "      <td>5</td>\n",
       "    </tr>\n",
       "    <tr>\n",
       "      <th>18</th>\n",
       "      <td>6</td>\n",
       "      <td>5</td>\n",
       "    </tr>\n",
       "    <tr>\n",
       "      <th>19</th>\n",
       "      <td>6</td>\n",
       "      <td>5</td>\n",
       "    </tr>\n",
       "  </tbody>\n",
       "</table>\n",
       "</div>"
      ],
      "text/plain": [
       "    predictions  actual\n",
       "0             5       5\n",
       "1             5       6\n",
       "2             6       6\n",
       "3             6       6\n",
       "4             6       6\n",
       "5             6       6\n",
       "6             6       6\n",
       "7             5       5\n",
       "8             6       5\n",
       "9             5       5\n",
       "10            6       6\n",
       "11            5       6\n",
       "12            5       6\n",
       "13            7       6\n",
       "14            6       6\n",
       "15            5       5\n",
       "16            6       6\n",
       "17            5       5\n",
       "18            6       5\n",
       "19            6       5"
      ]
     },
     "execution_count": 136,
     "metadata": {},
     "output_type": "execute_result"
    }
   ],
   "source": [
    "# Display sample data\n",
    "results.head(20)"
   ]
  }
 ],
 "metadata": {
  "kernelspec": {
   "display_name": "Python 3 (ipykernel)",
   "language": "python",
   "name": "python3"
  },
  "language_info": {
   "codemirror_mode": {
    "name": "ipython",
    "version": 3
   },
   "file_extension": ".py",
   "mimetype": "text/x-python",
   "name": "python",
   "nbconvert_exporter": "python",
   "pygments_lexer": "ipython3",
   "version": "3.10.13"
  }
 },
 "nbformat": 4,
 "nbformat_minor": 4
}
